{
 "cells": [
  {
   "cell_type": "markdown",
   "metadata": {},
   "source": [
    "# Using Google Cloud DataFlow with TFRUtil\n",
    "\n",
    "This notebook demonstrates how to use TFRUtil with Google Cloud DataFlow to scale up to processing any size of dataset.\n",
    "    \n",
    "## Notebook Setup\n",
    "\n",
    "1. Please install TFUtil with the command `python setup.py` from the repository root.\n",
    "\n",
    "2. Create a new GCS bucket the command with `gsutil mb gs://your/bucket/name` and set the BUCKET= constant to that name.\n",
    "\n",
    "3. Copy the test images from the TFRutil repo to the new gcs bucket with the command `gsutil cp -r  ./tfrutil/test_data/images gs://<BUCKET_NAME/images`\n"
   ]
  },
  {
   "cell_type": "code",
   "execution_count": 40,
   "metadata": {},
   "outputs": [],
   "source": [
    "import pandas as pd\n",
    "import tfrecorder\n",
    "import os"
   ]
  },
  {
   "cell_type": "code",
   "execution_count": 39,
   "metadata": {},
   "outputs": [
    {
     "name": "stdout",
     "output_type": "stream",
     "text": [
      "Collecting tfrecorder\n",
      "  Downloading tfrecorder-0.1.1-py3-none-any.whl (30 kB)\n",
      "  Saved ./tfrecorder-0.1.1-py3-none-any.whl\n",
      "Successfully downloaded tfrecorder\n"
     ]
    }
   ],
   "source": [
    "!pip download tfrecorder --no-deps"
   ]
  },
  {
   "cell_type": "code",
   "execution_count": 47,
   "metadata": {},
   "outputs": [],
   "source": [
    "BUCKET=\"mikebernico-sandbox\" # ADD YOUR BUCKET HERE\n",
    "PROJECT=\"mikebernico-sandbox\" # ADD YOUR PROJECT NAME HERE\n",
    "REGION=\"us-central1\" # ADD A COMPUTE REGION HERE\n",
    "OUTPUT_PATH = \"/results/\"\n",
    "TFRECORDER_WHEEL = os.path.join(os.getcwd(),\"tfrecorder-0.1.1-py3-none-any.whl\")"
   ]
  },
  {
   "cell_type": "code",
   "execution_count": 49,
   "metadata": {},
   "outputs": [],
   "source": [
    "df = pd.read_csv(\"data.csv\")"
   ]
  },
  {
   "cell_type": "code",
   "execution_count": 50,
   "metadata": {},
   "outputs": [
    {
     "data": {
      "text/html": [
       "<div>\n",
       "<style scoped>\n",
       "    .dataframe tbody tr th:only-of-type {\n",
       "        vertical-align: middle;\n",
       "    }\n",
       "\n",
       "    .dataframe tbody tr th {\n",
       "        vertical-align: top;\n",
       "    }\n",
       "\n",
       "    .dataframe thead th {\n",
       "        text-align: right;\n",
       "    }\n",
       "</style>\n",
       "<table border=\"1\" class=\"dataframe\">\n",
       "  <thead>\n",
       "    <tr style=\"text-align: right;\">\n",
       "      <th></th>\n",
       "      <th>split</th>\n",
       "      <th>image_uri</th>\n",
       "      <th>label</th>\n",
       "    </tr>\n",
       "  </thead>\n",
       "  <tbody>\n",
       "    <tr>\n",
       "      <th>0</th>\n",
       "      <td>TRAIN</td>\n",
       "      <td>../tfrecorder/test_data/images/cat/cat-640x853...</td>\n",
       "      <td>cat</td>\n",
       "    </tr>\n",
       "    <tr>\n",
       "      <th>1</th>\n",
       "      <td>VALIDATION</td>\n",
       "      <td>../tfrecorder/test_data/images/cat/cat-800x600...</td>\n",
       "      <td>cat</td>\n",
       "    </tr>\n",
       "    <tr>\n",
       "      <th>2</th>\n",
       "      <td>TEST</td>\n",
       "      <td>../tfrecorder/test_data/images/cat/cat-800x600...</td>\n",
       "      <td>cat</td>\n",
       "    </tr>\n",
       "    <tr>\n",
       "      <th>3</th>\n",
       "      <td>TRAIN</td>\n",
       "      <td>../tfrecorder/test_data/images/goat/goat-640x6...</td>\n",
       "      <td>goat</td>\n",
       "    </tr>\n",
       "    <tr>\n",
       "      <th>4</th>\n",
       "      <td>VALIDATION</td>\n",
       "      <td>../tfrecorder/test_data/images/goat/goat-320x3...</td>\n",
       "      <td>goat</td>\n",
       "    </tr>\n",
       "    <tr>\n",
       "      <th>5</th>\n",
       "      <td>TEST</td>\n",
       "      <td>../tfrecorder/test_data/images/goat/goat-640x4...</td>\n",
       "      <td>goat</td>\n",
       "    </tr>\n",
       "  </tbody>\n",
       "</table>\n",
       "</div>"
      ],
      "text/plain": [
       "        split                                          image_uri label\n",
       "0       TRAIN  ../tfrecorder/test_data/images/cat/cat-640x853...   cat\n",
       "1  VALIDATION  ../tfrecorder/test_data/images/cat/cat-800x600...   cat\n",
       "2        TEST  ../tfrecorder/test_data/images/cat/cat-800x600...   cat\n",
       "3       TRAIN  ../tfrecorder/test_data/images/goat/goat-640x6...  goat\n",
       "4  VALIDATION  ../tfrecorder/test_data/images/goat/goat-320x3...  goat\n",
       "5        TEST  ../tfrecorder/test_data/images/goat/goat-640x4...  goat"
      ]
     },
     "execution_count": 50,
     "metadata": {},
     "output_type": "execute_result"
    }
   ],
   "source": [
    "df"
   ]
  },
  {
   "cell_type": "markdown",
   "metadata": {},
   "source": [
    "## Update image_uri \n",
    "\n",
    "The image_uri column is currently pointing to the local file locations for each test image. We will change this path to the new GCS location below."
   ]
  },
  {
   "cell_type": "code",
   "execution_count": 51,
   "metadata": {},
   "outputs": [],
   "source": [
    "df['image_uri'] = df.image_uri.str.replace(\"../tfrecorder/\", \"gs://mikebernico-sandbox/\")"
   ]
  },
  {
   "cell_type": "code",
   "execution_count": 18,
   "metadata": {},
   "outputs": [
    {
     "name": "stdout",
     "output_type": "stream",
     "text": [
      "Copying file://../tfrecorder/test_data/data.csv [Content-Type=text/csv]...\n",
      "Copying file://../tfrecorder/test_data/images/goat/goat-320x320-2.jpg [Content-Type=image/jpeg]...\n",
      "Copying file://../tfrecorder/test_data/images/goat/goat-640x640-1.jpg [Content-Type=image/jpeg]...\n",
      "Copying file://../tfrecorder/test_data/images/goat/goat-640x427-3.jpg [Content-Type=image/jpeg]...\n",
      "/ [4 files][165.2 KiB/165.2 KiB]                                                \n",
      "==> NOTE: You are performing a sequence of gsutil operations that may\n",
      "run significantly faster if you instead use gsutil -m cp ... Please\n",
      "see the -m section under \"gsutil help options\" for further information\n",
      "about when gsutil -m can be advantageous.\n",
      "\n",
      "Copying file://../tfrecorder/test_data/images/cat/cat-800x600-3.jpg [Content-Type=image/jpeg]...\n",
      "Copying file://../tfrecorder/test_data/images/cat/cat-800x600-2.jpg [Content-Type=image/jpeg]...\n",
      "Copying file://../tfrecorder/test_data/images/cat/cat-640x853-1.jpg [Content-Type=image/jpeg]...\n",
      "Copying file://../tfrecorder/test_data/sample_tfrecords/schema.pbtxt [Content-Type=application/octet-stream]...\n",
      "Copying file://../tfrecorder/test_data/sample_tfrecords/train-00000-of-00001.tfrecord.gz [Content-Type=application/octet-stream]...\n",
      "Copying file://../tfrecorder/test_data/sample_tfrecords/val-00000-of-00001.tfrecord.gz [Content-Type=application/octet-stream]...\n",
      "Copying file://../tfrecorder/test_data/sample_tfrecords/discarded-data-00000-of-00001 [Content-Type=application/octet-stream]...\n",
      "Copying file://../tfrecorder/test_data/sample_tfrecords/test-00000-of-00001.tfrecord.gz [Content-Type=application/octet-stream]...\n",
      "Copying file://../tfrecorder/test_data/sample_tfrecords/transform_fn/saved_model.pb [Content-Type=application/octet-stream]...\n",
      "Copying file://../tfrecorder/test_data/sample_tfrecords/transform_fn/assets/vocab_compute_and_apply_vocabulary_vocabulary [Content-Type=application/octet-stream]...\n",
      "Copying file://../tfrecorder/test_data/sample_tfrecords/transformed_metadata/schema.pbtxt [Content-Type=application/octet-stream]...\n",
      "| [15 files][  3.4 MiB/  3.4 MiB]                                               \n",
      "Operation completed over 15 objects/3.4 MiB.                                     \n"
     ]
    }
   ],
   "source": [
    "!gsutil cp -r ../tfrecorder/test_data/* gs://mikebernico-sandbox/test_data"
   ]
  },
  {
   "cell_type": "code",
   "execution_count": 52,
   "metadata": {},
   "outputs": [
    {
     "data": {
      "text/html": [
       "<div>\n",
       "<style scoped>\n",
       "    .dataframe tbody tr th:only-of-type {\n",
       "        vertical-align: middle;\n",
       "    }\n",
       "\n",
       "    .dataframe tbody tr th {\n",
       "        vertical-align: top;\n",
       "    }\n",
       "\n",
       "    .dataframe thead th {\n",
       "        text-align: right;\n",
       "    }\n",
       "</style>\n",
       "<table border=\"1\" class=\"dataframe\">\n",
       "  <thead>\n",
       "    <tr style=\"text-align: right;\">\n",
       "      <th></th>\n",
       "      <th>split</th>\n",
       "      <th>image_uri</th>\n",
       "      <th>label</th>\n",
       "    </tr>\n",
       "  </thead>\n",
       "  <tbody>\n",
       "    <tr>\n",
       "      <th>0</th>\n",
       "      <td>TRAIN</td>\n",
       "      <td>gs://mikebernico-sandbox/test_data/images/cat/...</td>\n",
       "      <td>cat</td>\n",
       "    </tr>\n",
       "    <tr>\n",
       "      <th>1</th>\n",
       "      <td>VALIDATION</td>\n",
       "      <td>gs://mikebernico-sandbox/test_data/images/cat/...</td>\n",
       "      <td>cat</td>\n",
       "    </tr>\n",
       "    <tr>\n",
       "      <th>2</th>\n",
       "      <td>TEST</td>\n",
       "      <td>gs://mikebernico-sandbox/test_data/images/cat/...</td>\n",
       "      <td>cat</td>\n",
       "    </tr>\n",
       "    <tr>\n",
       "      <th>3</th>\n",
       "      <td>TRAIN</td>\n",
       "      <td>gs://mikebernico-sandbox/test_data/images/goat...</td>\n",
       "      <td>goat</td>\n",
       "    </tr>\n",
       "    <tr>\n",
       "      <th>4</th>\n",
       "      <td>VALIDATION</td>\n",
       "      <td>gs://mikebernico-sandbox/test_data/images/goat...</td>\n",
       "      <td>goat</td>\n",
       "    </tr>\n",
       "    <tr>\n",
       "      <th>5</th>\n",
       "      <td>TEST</td>\n",
       "      <td>gs://mikebernico-sandbox/test_data/images/goat...</td>\n",
       "      <td>goat</td>\n",
       "    </tr>\n",
       "  </tbody>\n",
       "</table>\n",
       "</div>"
      ],
      "text/plain": [
       "        split                                          image_uri label\n",
       "0       TRAIN  gs://mikebernico-sandbox/test_data/images/cat/...   cat\n",
       "1  VALIDATION  gs://mikebernico-sandbox/test_data/images/cat/...   cat\n",
       "2        TEST  gs://mikebernico-sandbox/test_data/images/cat/...   cat\n",
       "3       TRAIN  gs://mikebernico-sandbox/test_data/images/goat...  goat\n",
       "4  VALIDATION  gs://mikebernico-sandbox/test_data/images/goat...  goat\n",
       "5        TEST  gs://mikebernico-sandbox/test_data/images/goat...  goat"
      ]
     },
     "execution_count": 52,
     "metadata": {},
     "output_type": "execute_result"
    }
   ],
   "source": [
    "df"
   ]
  },
  {
   "cell_type": "code",
   "execution_count": 55,
   "metadata": {
    "scrolled": true
   },
   "outputs": [
    {
     "data": {
      "text/html": [
       "<b>Logging output to /tmp/tfrecorder-beam.log </b>"
      ],
      "text/plain": [
       "<IPython.core.display.HTML object>"
      ]
     },
     "metadata": {},
     "output_type": "display_data"
    },
    {
     "ename": "TypeError",
     "evalue": "'>=' not supported between instances of 'NoneType' and 'int'",
     "output_type": "error",
     "traceback": [
      "\u001b[0;31m---------------------------------------------------------------------------\u001b[0m",
      "\u001b[0;31mHttpLib2Error\u001b[0m                             Traceback (most recent call last)",
      "\u001b[0;32m~/.virtualenvs/tfrecorder/lib/python3.7/site-packages/oauth2client/contrib/gce.py\u001b[0m in \u001b[0;36m_refresh\u001b[0;34m(self, http_request)\u001b[0m\n\u001b[1;32m    135\u001b[0m             self.access_token, self.token_expiry = _metadata.get_token(\n\u001b[0;32m--> 136\u001b[0;31m                 http_request, service_account=self.service_account_email)\n\u001b[0m\u001b[1;32m    137\u001b[0m         \u001b[0;32mexcept\u001b[0m \u001b[0mhttplib2\u001b[0m\u001b[0;34m.\u001b[0m\u001b[0mHttpLib2Error\u001b[0m \u001b[0;32mas\u001b[0m \u001b[0me\u001b[0m\u001b[0;34m:\u001b[0m\u001b[0;34m\u001b[0m\u001b[0;34m\u001b[0m\u001b[0m\n",
      "\u001b[0;32m~/.virtualenvs/tfrecorder/lib/python3.7/site-packages/oauth2client/contrib/_metadata.py\u001b[0m in \u001b[0;36mget_token\u001b[0;34m(http_request, service_account)\u001b[0m\n\u001b[1;32m    119\u001b[0m         \u001b[0mhttp_request\u001b[0m\u001b[0;34m,\u001b[0m\u001b[0;34m\u001b[0m\u001b[0;34m\u001b[0m\u001b[0m\n\u001b[0;32m--> 120\u001b[0;31m         'instance/service-accounts/{0}/token'.format(service_account))\n\u001b[0m\u001b[1;32m    121\u001b[0m     token_expiry = client._UTCNOW() + datetime.timedelta(\n",
      "\u001b[0;32m~/.virtualenvs/tfrecorder/lib/python3.7/site-packages/oauth2client/contrib/_metadata.py\u001b[0m in \u001b[0;36mget\u001b[0;34m(http_request, path, root, recursive)\u001b[0m\n\u001b[1;32m     72\u001b[0m             \u001b[0;34m'Failed to retrieve {0} from the Google Compute Engine'\u001b[0m\u001b[0;34m\u001b[0m\u001b[0;34m\u001b[0m\u001b[0m\n\u001b[0;32m---> 73\u001b[0;31m             'metadata service. Response:\\n{1}'.format(url, response))\n\u001b[0m\u001b[1;32m     74\u001b[0m \u001b[0;34m\u001b[0m\u001b[0m\n",
      "\u001b[0;31mHttpLib2Error\u001b[0m: Failed to retrieve http://metadata.google.internal/computeMetadata/v1/instance/service-accounts/insecure-cloudtop-shared-user@cloudtop-prod.google.com.iam.gserviceaccount.com/token from the Google Compute Enginemetadata service. Response:\n{'metadata-flavor': 'Google', 'content-type': 'application/json', 'date': 'Tue, 15 Sep 2020 14:56:14 GMT', 'server': 'Metadata Server for VM', 'cache-control': 'private', 'content-length': '38', 'x-xss-protection': '0', 'x-frame-options': 'SAMEORIGIN', 'status': '404', '-content-encoding': 'gzip'}",
      "\nDuring handling of the above exception, another exception occurred:\n",
      "\u001b[0;31mHttpAccessTokenRefreshError\u001b[0m               Traceback (most recent call last)",
      "\u001b[0;32m~/.virtualenvs/tfrecorder/lib/python3.7/site-packages/apitools/base/py/http_wrapper.py\u001b[0m in \u001b[0;36mMakeRequest\u001b[0;34m(http, http_request, retries, max_retry_wait, redirections, retry_func, check_response_func)\u001b[0m\n\u001b[1;32m    349\u001b[0m                 \u001b[0mhttp\u001b[0m\u001b[0;34m,\u001b[0m \u001b[0mhttp_request\u001b[0m\u001b[0;34m,\u001b[0m \u001b[0mredirections\u001b[0m\u001b[0;34m=\u001b[0m\u001b[0mredirections\u001b[0m\u001b[0;34m,\u001b[0m\u001b[0;34m\u001b[0m\u001b[0;34m\u001b[0m\u001b[0m\n\u001b[0;32m--> 350\u001b[0;31m                 check_response_func=check_response_func)\n\u001b[0m\u001b[1;32m    351\u001b[0m         \u001b[0;31m# retry_func will consume the exception types it handles and raise.\u001b[0m\u001b[0;34m\u001b[0m\u001b[0;34m\u001b[0m\u001b[0;34m\u001b[0m\u001b[0m\n",
      "\u001b[0;32m~/.virtualenvs/tfrecorder/lib/python3.7/site-packages/apitools/base/py/http_wrapper.py\u001b[0m in \u001b[0;36m_MakeRequestNoRetry\u001b[0;34m(http, http_request, redirections, check_response_func)\u001b[0m\n\u001b[1;32m    399\u001b[0m             \u001b[0mbody\u001b[0m\u001b[0;34m=\u001b[0m\u001b[0mhttp_request\u001b[0m\u001b[0;34m.\u001b[0m\u001b[0mbody\u001b[0m\u001b[0;34m,\u001b[0m \u001b[0mheaders\u001b[0m\u001b[0;34m=\u001b[0m\u001b[0mhttp_request\u001b[0m\u001b[0;34m.\u001b[0m\u001b[0mheaders\u001b[0m\u001b[0;34m,\u001b[0m\u001b[0;34m\u001b[0m\u001b[0;34m\u001b[0m\u001b[0m\n\u001b[0;32m--> 400\u001b[0;31m             redirections=redirections, connection_type=connection_type)\n\u001b[0m\u001b[1;32m    401\u001b[0m \u001b[0;34m\u001b[0m\u001b[0m\n",
      "\u001b[0;32m~/.virtualenvs/tfrecorder/lib/python3.7/site-packages/oauth2client/transport.py\u001b[0m in \u001b[0;36mnew_request\u001b[0;34m(uri, method, body, headers, redirections, connection_type)\u001b[0m\n\u001b[1;32m    152\u001b[0m                          'initial access_token')\n\u001b[0;32m--> 153\u001b[0;31m             \u001b[0mcredentials\u001b[0m\u001b[0;34m.\u001b[0m\u001b[0m_refresh\u001b[0m\u001b[0;34m(\u001b[0m\u001b[0morig_request_method\u001b[0m\u001b[0;34m)\u001b[0m\u001b[0;34m\u001b[0m\u001b[0;34m\u001b[0m\u001b[0m\n\u001b[0m\u001b[1;32m    154\u001b[0m \u001b[0;34m\u001b[0m\u001b[0m\n",
      "\u001b[0;32m~/.virtualenvs/tfrecorder/lib/python3.7/site-packages/oauth2client/contrib/gce.py\u001b[0m in \u001b[0;36m_refresh\u001b[0;34m(self, http_request)\u001b[0m\n\u001b[1;32m    137\u001b[0m         \u001b[0;32mexcept\u001b[0m \u001b[0mhttplib2\u001b[0m\u001b[0;34m.\u001b[0m\u001b[0mHttpLib2Error\u001b[0m \u001b[0;32mas\u001b[0m \u001b[0me\u001b[0m\u001b[0;34m:\u001b[0m\u001b[0;34m\u001b[0m\u001b[0;34m\u001b[0m\u001b[0m\n\u001b[0;32m--> 138\u001b[0;31m             \u001b[0;32mraise\u001b[0m \u001b[0mclient\u001b[0m\u001b[0;34m.\u001b[0m\u001b[0mHttpAccessTokenRefreshError\u001b[0m\u001b[0;34m(\u001b[0m\u001b[0mstr\u001b[0m\u001b[0;34m(\u001b[0m\u001b[0me\u001b[0m\u001b[0;34m)\u001b[0m\u001b[0;34m)\u001b[0m\u001b[0;34m\u001b[0m\u001b[0;34m\u001b[0m\u001b[0m\n\u001b[0m\u001b[1;32m    139\u001b[0m \u001b[0;34m\u001b[0m\u001b[0m\n",
      "\u001b[0;31mHttpAccessTokenRefreshError\u001b[0m: Failed to retrieve http://metadata.google.internal/computeMetadata/v1/instance/service-accounts/insecure-cloudtop-shared-user@cloudtop-prod.google.com.iam.gserviceaccount.com/token from the Google Compute Enginemetadata service. Response:\n{'metadata-flavor': 'Google', 'content-type': 'application/json', 'date': 'Tue, 15 Sep 2020 14:56:14 GMT', 'server': 'Metadata Server for VM', 'cache-control': 'private', 'content-length': '38', 'x-xss-protection': '0', 'x-frame-options': 'SAMEORIGIN', 'status': '404', '-content-encoding': 'gzip'}",
      "\nDuring handling of the above exception, another exception occurred:\n",
      "\u001b[0;31mTypeError\u001b[0m                                 Traceback (most recent call last)",
      "\u001b[0;32m<ipython-input-55-85ccb1afc269>\u001b[0m in \u001b[0;36m<module>\u001b[0;34m\u001b[0m\n\u001b[1;32m      3\u001b[0m                      \u001b[0mproject\u001b[0m\u001b[0;34m=\u001b[0m\u001b[0mPROJECT\u001b[0m\u001b[0;34m,\u001b[0m\u001b[0;34m\u001b[0m\u001b[0;34m\u001b[0m\u001b[0m\n\u001b[1;32m      4\u001b[0m                      \u001b[0mregion\u001b[0m\u001b[0;34m=\u001b[0m\u001b[0mREGION\u001b[0m\u001b[0;34m,\u001b[0m\u001b[0;34m\u001b[0m\u001b[0;34m\u001b[0m\u001b[0m\n\u001b[0;32m----> 5\u001b[0;31m                      tfrecorder_wheel=TFRECORDER_WHEEL)\n\u001b[0m",
      "\u001b[0;32m~/.virtualenvs/tfrecorder/lib/python3.7/site-packages/tfrecorder-0.1.1-py3.7.egg/tfrecorder/accessor.py\u001b[0m in \u001b[0;36mto_tfr\u001b[0;34m(self, output_dir, runner, project, region, tfrecorder_wheel, dataflow_options, job_label, compression, num_shards)\u001b[0m\n\u001b[1;32m     93\u001b[0m         \u001b[0mjob_label\u001b[0m\u001b[0;34m=\u001b[0m\u001b[0mjob_label\u001b[0m\u001b[0;34m,\u001b[0m\u001b[0;34m\u001b[0m\u001b[0;34m\u001b[0m\u001b[0m\n\u001b[1;32m     94\u001b[0m         \u001b[0mcompression\u001b[0m\u001b[0;34m=\u001b[0m\u001b[0mcompression\u001b[0m\u001b[0;34m,\u001b[0m\u001b[0;34m\u001b[0m\u001b[0;34m\u001b[0m\u001b[0m\n\u001b[0;32m---> 95\u001b[0;31m         num_shards=num_shards)\n\u001b[0m\u001b[1;32m     96\u001b[0m     \u001b[0;32mreturn\u001b[0m \u001b[0mr\u001b[0m\u001b[0;34m\u001b[0m\u001b[0;34m\u001b[0m\u001b[0m\n",
      "\u001b[0;32m~/.virtualenvs/tfrecorder/lib/python3.7/site-packages/tfrecorder-0.1.1-py3.7.egg/tfrecorder/client.py\u001b[0m in \u001b[0;36mcreate_tfrecords\u001b[0;34m(input_data, output_dir, header, names, runner, project, region, tfrecorder_wheel, dataflow_options, job_label, compression, num_shards)\u001b[0m\n\u001b[1;32m    231\u001b[0m       \u001b[0mtfrecorder_wheel\u001b[0m\u001b[0;34m=\u001b[0m\u001b[0mtfrecorder_wheel\u001b[0m\u001b[0;34m,\u001b[0m\u001b[0;34m\u001b[0m\u001b[0;34m\u001b[0m\u001b[0m\n\u001b[1;32m    232\u001b[0m       \u001b[0mdataflow_options\u001b[0m\u001b[0;34m=\u001b[0m\u001b[0mdataflow_options\u001b[0m\u001b[0;34m,\u001b[0m\u001b[0;34m\u001b[0m\u001b[0;34m\u001b[0m\u001b[0m\n\u001b[0;32m--> 233\u001b[0;31m       integer_label=integer_label)\n\u001b[0m\u001b[1;32m    234\u001b[0m \u001b[0;34m\u001b[0m\u001b[0m\n\u001b[1;32m    235\u001b[0m   \u001b[0mresult\u001b[0m \u001b[0;34m=\u001b[0m \u001b[0mp\u001b[0m\u001b[0;34m.\u001b[0m\u001b[0mrun\u001b[0m\u001b[0;34m(\u001b[0m\u001b[0;34m)\u001b[0m\u001b[0;34m\u001b[0m\u001b[0;34m\u001b[0m\u001b[0m\n",
      "\u001b[0;32m~/.virtualenvs/tfrecorder/lib/python3.7/site-packages/tfrecorder-0.1.1-py3.7.egg/tfrecorder/beam_pipeline.py\u001b[0m in \u001b[0;36mbuild_pipeline\u001b[0;34m(df, job_label, runner, project, region, output_dir, compression, num_shards, tfrecorder_wheel, dataflow_options, integer_label)\u001b[0m\n\u001b[1;32m    227\u001b[0m \u001b[0;34m\u001b[0m\u001b[0m\n\u001b[1;32m    228\u001b[0m   \u001b[0;31m#with beam.Pipeline(runner, options=options) as p:\u001b[0m\u001b[0;34m\u001b[0m\u001b[0;34m\u001b[0m\u001b[0;34m\u001b[0m\u001b[0m\n\u001b[0;32m--> 229\u001b[0;31m   \u001b[0mp\u001b[0m \u001b[0;34m=\u001b[0m \u001b[0mbeam\u001b[0m\u001b[0;34m.\u001b[0m\u001b[0mPipeline\u001b[0m\u001b[0;34m(\u001b[0m\u001b[0moptions\u001b[0m\u001b[0;34m=\u001b[0m\u001b[0moptions\u001b[0m\u001b[0;34m)\u001b[0m\u001b[0;34m\u001b[0m\u001b[0;34m\u001b[0m\u001b[0m\n\u001b[0m\u001b[1;32m    230\u001b[0m   \u001b[0;32mwith\u001b[0m \u001b[0mtft_beam\u001b[0m\u001b[0;34m.\u001b[0m\u001b[0mContext\u001b[0m\u001b[0;34m(\u001b[0m\u001b[0mtemp_dir\u001b[0m\u001b[0;34m=\u001b[0m\u001b[0mos\u001b[0m\u001b[0;34m.\u001b[0m\u001b[0mpath\u001b[0m\u001b[0;34m.\u001b[0m\u001b[0mjoin\u001b[0m\u001b[0;34m(\u001b[0m\u001b[0mjob_dir\u001b[0m\u001b[0;34m,\u001b[0m \u001b[0;34m'tft_tmp'\u001b[0m\u001b[0;34m)\u001b[0m\u001b[0;34m)\u001b[0m\u001b[0;34m:\u001b[0m\u001b[0;34m\u001b[0m\u001b[0;34m\u001b[0m\u001b[0m\n\u001b[1;32m    231\u001b[0m \u001b[0;34m\u001b[0m\u001b[0m\n",
      "\u001b[0;32m~/.virtualenvs/tfrecorder/lib/python3.7/site-packages/apache_beam/pipeline.py\u001b[0m in \u001b[0;36m__init__\u001b[0;34m(self, runner, options, argv)\u001b[0m\n\u001b[1;32m    198\u001b[0m \u001b[0;34m\u001b[0m\u001b[0m\n\u001b[1;32m    199\u001b[0m     \u001b[0;31m# Validate pipeline options\u001b[0m\u001b[0;34m\u001b[0m\u001b[0;34m\u001b[0m\u001b[0;34m\u001b[0m\u001b[0m\n\u001b[0;32m--> 200\u001b[0;31m     \u001b[0merrors\u001b[0m \u001b[0;34m=\u001b[0m \u001b[0mPipelineOptionsValidator\u001b[0m\u001b[0;34m(\u001b[0m\u001b[0mself\u001b[0m\u001b[0;34m.\u001b[0m\u001b[0m_options\u001b[0m\u001b[0;34m,\u001b[0m \u001b[0mrunner\u001b[0m\u001b[0;34m)\u001b[0m\u001b[0;34m.\u001b[0m\u001b[0mvalidate\u001b[0m\u001b[0;34m(\u001b[0m\u001b[0;34m)\u001b[0m\u001b[0;34m\u001b[0m\u001b[0;34m\u001b[0m\u001b[0m\n\u001b[0m\u001b[1;32m    201\u001b[0m     \u001b[0;32mif\u001b[0m \u001b[0merrors\u001b[0m\u001b[0;34m:\u001b[0m\u001b[0;34m\u001b[0m\u001b[0;34m\u001b[0m\u001b[0m\n\u001b[1;32m    202\u001b[0m       raise ValueError(\n",
      "\u001b[0;32m~/.virtualenvs/tfrecorder/lib/python3.7/site-packages/apache_beam/options/pipeline_options_validator.py\u001b[0m in \u001b[0;36mvalidate\u001b[0;34m(self)\u001b[0m\n\u001b[1;32m    122\u001b[0m     \u001b[0;32mfor\u001b[0m \u001b[0mcls\u001b[0m \u001b[0;32min\u001b[0m \u001b[0mself\u001b[0m\u001b[0;34m.\u001b[0m\u001b[0mOPTIONS\u001b[0m\u001b[0;34m:\u001b[0m\u001b[0;34m\u001b[0m\u001b[0;34m\u001b[0m\u001b[0m\n\u001b[1;32m    123\u001b[0m       \u001b[0;32mif\u001b[0m \u001b[0;34m'validate'\u001b[0m \u001b[0;32min\u001b[0m \u001b[0mcls\u001b[0m\u001b[0;34m.\u001b[0m\u001b[0m__dict__\u001b[0m \u001b[0;32mand\u001b[0m \u001b[0mcallable\u001b[0m\u001b[0;34m(\u001b[0m\u001b[0mcls\u001b[0m\u001b[0;34m.\u001b[0m\u001b[0m__dict__\u001b[0m\u001b[0;34m[\u001b[0m\u001b[0;34m'validate'\u001b[0m\u001b[0;34m]\u001b[0m\u001b[0;34m)\u001b[0m\u001b[0;34m:\u001b[0m\u001b[0;34m\u001b[0m\u001b[0;34m\u001b[0m\u001b[0m\n\u001b[0;32m--> 124\u001b[0;31m         \u001b[0merrors\u001b[0m\u001b[0;34m.\u001b[0m\u001b[0mextend\u001b[0m\u001b[0;34m(\u001b[0m\u001b[0mself\u001b[0m\u001b[0;34m.\u001b[0m\u001b[0moptions\u001b[0m\u001b[0;34m.\u001b[0m\u001b[0mview_as\u001b[0m\u001b[0;34m(\u001b[0m\u001b[0mcls\u001b[0m\u001b[0;34m)\u001b[0m\u001b[0;34m.\u001b[0m\u001b[0mvalidate\u001b[0m\u001b[0;34m(\u001b[0m\u001b[0mself\u001b[0m\u001b[0;34m)\u001b[0m\u001b[0;34m)\u001b[0m\u001b[0;34m\u001b[0m\u001b[0;34m\u001b[0m\u001b[0m\n\u001b[0m\u001b[1;32m    125\u001b[0m     \u001b[0;32mreturn\u001b[0m \u001b[0merrors\u001b[0m\u001b[0;34m\u001b[0m\u001b[0;34m\u001b[0m\u001b[0m\n\u001b[1;32m    126\u001b[0m \u001b[0;34m\u001b[0m\u001b[0m\n",
      "\u001b[0;32m~/.virtualenvs/tfrecorder/lib/python3.7/site-packages/apache_beam/options/pipeline_options.py\u001b[0m in \u001b[0;36mvalidate\u001b[0;34m(self, validator)\u001b[0m\n\u001b[1;32m    621\u001b[0m       \u001b[0mtemp_location_errors\u001b[0m \u001b[0;34m=\u001b[0m \u001b[0mvalidator\u001b[0m\u001b[0;34m.\u001b[0m\u001b[0mvalidate_gcs_path\u001b[0m\u001b[0;34m(\u001b[0m\u001b[0mself\u001b[0m\u001b[0;34m,\u001b[0m \u001b[0;34m'temp_location'\u001b[0m\u001b[0;34m)\u001b[0m\u001b[0;34m\u001b[0m\u001b[0;34m\u001b[0m\u001b[0m\n\u001b[1;32m    622\u001b[0m       \u001b[0;32mif\u001b[0m \u001b[0mtemp_location_errors\u001b[0m\u001b[0;34m:\u001b[0m\u001b[0;34m\u001b[0m\u001b[0;34m\u001b[0m\u001b[0m\n\u001b[0;32m--> 623\u001b[0;31m         \u001b[0mdefault_bucket\u001b[0m \u001b[0;34m=\u001b[0m \u001b[0mself\u001b[0m\u001b[0;34m.\u001b[0m\u001b[0m_create_default_gcs_bucket\u001b[0m\u001b[0;34m(\u001b[0m\u001b[0;34m)\u001b[0m\u001b[0;34m\u001b[0m\u001b[0;34m\u001b[0m\u001b[0m\n\u001b[0m\u001b[1;32m    624\u001b[0m         \u001b[0;32mif\u001b[0m \u001b[0mdefault_bucket\u001b[0m \u001b[0;32mis\u001b[0m \u001b[0;32mNone\u001b[0m\u001b[0;34m:\u001b[0m\u001b[0;34m\u001b[0m\u001b[0;34m\u001b[0m\u001b[0m\n\u001b[1;32m    625\u001b[0m           \u001b[0merrors\u001b[0m\u001b[0;34m.\u001b[0m\u001b[0mextend\u001b[0m\u001b[0;34m(\u001b[0m\u001b[0mtemp_location_errors\u001b[0m\u001b[0;34m)\u001b[0m\u001b[0;34m\u001b[0m\u001b[0;34m\u001b[0m\u001b[0m\n",
      "\u001b[0;32m~/.virtualenvs/tfrecorder/lib/python3.7/site-packages/apache_beam/options/pipeline_options.py\u001b[0m in \u001b[0;36m_create_default_gcs_bucket\u001b[0;34m(self)\u001b[0m\n\u001b[1;32m    607\u001b[0m       \u001b[0m_LOGGER\u001b[0m\u001b[0;34m.\u001b[0m\u001b[0mwarning\u001b[0m\u001b[0;34m(\u001b[0m\u001b[0;34m'Unable to create default GCS bucket.'\u001b[0m\u001b[0;34m)\u001b[0m\u001b[0;34m\u001b[0m\u001b[0;34m\u001b[0m\u001b[0m\n\u001b[1;32m    608\u001b[0m       \u001b[0;32mreturn\u001b[0m \u001b[0;32mNone\u001b[0m\u001b[0;34m\u001b[0m\u001b[0;34m\u001b[0m\u001b[0m\n\u001b[0;32m--> 609\u001b[0;31m     \u001b[0mbucket\u001b[0m \u001b[0;34m=\u001b[0m \u001b[0mgcsio\u001b[0m\u001b[0;34m.\u001b[0m\u001b[0mget_or_create_default_gcs_bucket\u001b[0m\u001b[0;34m(\u001b[0m\u001b[0mself\u001b[0m\u001b[0;34m)\u001b[0m\u001b[0;34m\u001b[0m\u001b[0;34m\u001b[0m\u001b[0m\n\u001b[0m\u001b[1;32m    610\u001b[0m     \u001b[0;32mif\u001b[0m \u001b[0mbucket\u001b[0m\u001b[0;34m:\u001b[0m\u001b[0;34m\u001b[0m\u001b[0;34m\u001b[0m\u001b[0m\n\u001b[1;32m    611\u001b[0m       \u001b[0;32mreturn\u001b[0m \u001b[0;34m'gs://%s'\u001b[0m \u001b[0;34m%\u001b[0m \u001b[0mbucket\u001b[0m\u001b[0;34m.\u001b[0m\u001b[0mid\u001b[0m\u001b[0;34m\u001b[0m\u001b[0;34m\u001b[0m\u001b[0m\n",
      "\u001b[0;32m~/.virtualenvs/tfrecorder/lib/python3.7/site-packages/apache_beam/io/gcp/gcsio.py\u001b[0m in \u001b[0;36mget_or_create_default_gcs_bucket\u001b[0;34m(options)\u001b[0m\n\u001b[1;32m    130\u001b[0m \u001b[0;34m\u001b[0m\u001b[0m\n\u001b[1;32m    131\u001b[0m   \u001b[0mbucket_name\u001b[0m \u001b[0;34m=\u001b[0m \u001b[0mdefault_gcs_bucket_name\u001b[0m\u001b[0;34m(\u001b[0m\u001b[0mproject\u001b[0m\u001b[0;34m,\u001b[0m \u001b[0mregion\u001b[0m\u001b[0;34m)\u001b[0m\u001b[0;34m\u001b[0m\u001b[0;34m\u001b[0m\u001b[0m\n\u001b[0;32m--> 132\u001b[0;31m   \u001b[0mbucket\u001b[0m \u001b[0;34m=\u001b[0m \u001b[0mGcsIO\u001b[0m\u001b[0;34m(\u001b[0m\u001b[0;34m)\u001b[0m\u001b[0;34m.\u001b[0m\u001b[0mget_bucket\u001b[0m\u001b[0;34m(\u001b[0m\u001b[0mbucket_name\u001b[0m\u001b[0;34m)\u001b[0m\u001b[0;34m\u001b[0m\u001b[0;34m\u001b[0m\u001b[0m\n\u001b[0m\u001b[1;32m    133\u001b[0m   \u001b[0;32mif\u001b[0m \u001b[0mbucket\u001b[0m\u001b[0;34m:\u001b[0m\u001b[0;34m\u001b[0m\u001b[0;34m\u001b[0m\u001b[0m\n\u001b[1;32m    134\u001b[0m     \u001b[0;32mreturn\u001b[0m \u001b[0mbucket\u001b[0m\u001b[0;34m\u001b[0m\u001b[0;34m\u001b[0m\u001b[0m\n",
      "\u001b[0;32m~/.virtualenvs/tfrecorder/lib/python3.7/site-packages/apache_beam/io/gcp/gcsio.py\u001b[0m in \u001b[0;36mget_bucket\u001b[0;34m(self, bucket_name)\u001b[0m\n\u001b[1;32m    170\u001b[0m     \u001b[0;32mtry\u001b[0m\u001b[0;34m:\u001b[0m\u001b[0;34m\u001b[0m\u001b[0;34m\u001b[0m\u001b[0m\n\u001b[1;32m    171\u001b[0m       \u001b[0mrequest\u001b[0m \u001b[0;34m=\u001b[0m \u001b[0mstorage\u001b[0m\u001b[0;34m.\u001b[0m\u001b[0mStorageBucketsGetRequest\u001b[0m\u001b[0;34m(\u001b[0m\u001b[0mbucket\u001b[0m\u001b[0;34m=\u001b[0m\u001b[0mbucket_name\u001b[0m\u001b[0;34m)\u001b[0m\u001b[0;34m\u001b[0m\u001b[0;34m\u001b[0m\u001b[0m\n\u001b[0;32m--> 172\u001b[0;31m       \u001b[0;32mreturn\u001b[0m \u001b[0mself\u001b[0m\u001b[0;34m.\u001b[0m\u001b[0mclient\u001b[0m\u001b[0;34m.\u001b[0m\u001b[0mbuckets\u001b[0m\u001b[0;34m.\u001b[0m\u001b[0mGet\u001b[0m\u001b[0;34m(\u001b[0m\u001b[0mrequest\u001b[0m\u001b[0;34m)\u001b[0m\u001b[0;34m\u001b[0m\u001b[0;34m\u001b[0m\u001b[0m\n\u001b[0m\u001b[1;32m    173\u001b[0m     \u001b[0;32mexcept\u001b[0m \u001b[0mHttpError\u001b[0m\u001b[0;34m:\u001b[0m\u001b[0;34m\u001b[0m\u001b[0;34m\u001b[0m\u001b[0m\n\u001b[1;32m    174\u001b[0m       \u001b[0;32mreturn\u001b[0m \u001b[0;32mNone\u001b[0m\u001b[0;34m\u001b[0m\u001b[0;34m\u001b[0m\u001b[0m\n",
      "\u001b[0;32m~/.virtualenvs/tfrecorder/lib/python3.7/site-packages/apache_beam/io/gcp/internal/clients/storage/storage_v1_client.py\u001b[0m in \u001b[0;36mGet\u001b[0;34m(self, request, global_params)\u001b[0m\n\u001b[1;32m    283\u001b[0m       \u001b[0mconfig\u001b[0m \u001b[0;34m=\u001b[0m \u001b[0mself\u001b[0m\u001b[0;34m.\u001b[0m\u001b[0mGetMethodConfig\u001b[0m\u001b[0;34m(\u001b[0m\u001b[0;34m'Get'\u001b[0m\u001b[0;34m)\u001b[0m\u001b[0;34m\u001b[0m\u001b[0;34m\u001b[0m\u001b[0m\n\u001b[1;32m    284\u001b[0m       return self._RunMethod(\n\u001b[0;32m--> 285\u001b[0;31m           config, request, global_params=global_params)\n\u001b[0m\u001b[1;32m    286\u001b[0m \u001b[0;34m\u001b[0m\u001b[0m\n\u001b[1;32m    287\u001b[0m     Get.method_config = lambda: base_api.ApiMethodInfo(\n",
      "\u001b[0;32m~/.virtualenvs/tfrecorder/lib/python3.7/site-packages/apitools/base/py/base_api.py\u001b[0m in \u001b[0;36m_RunMethod\u001b[0;34m(self, method_config, request, global_params, upload, upload_config, download)\u001b[0m\n\u001b[1;32m    727\u001b[0m                 \u001b[0mopts\u001b[0m\u001b[0;34m[\u001b[0m\u001b[0;34m'retry_func'\u001b[0m\u001b[0;34m]\u001b[0m \u001b[0;34m=\u001b[0m \u001b[0mself\u001b[0m\u001b[0;34m.\u001b[0m\u001b[0m__client\u001b[0m\u001b[0;34m.\u001b[0m\u001b[0mretry_func\u001b[0m\u001b[0;34m\u001b[0m\u001b[0;34m\u001b[0m\u001b[0m\n\u001b[1;32m    728\u001b[0m             http_response = http_wrapper.MakeRequest(\n\u001b[0;32m--> 729\u001b[0;31m                 http, http_request, **opts)\n\u001b[0m\u001b[1;32m    730\u001b[0m \u001b[0;34m\u001b[0m\u001b[0m\n\u001b[1;32m    731\u001b[0m         \u001b[0;32mreturn\u001b[0m \u001b[0mself\u001b[0m\u001b[0;34m.\u001b[0m\u001b[0mProcessHttpResponse\u001b[0m\u001b[0;34m(\u001b[0m\u001b[0mmethod_config\u001b[0m\u001b[0;34m,\u001b[0m \u001b[0mhttp_response\u001b[0m\u001b[0;34m,\u001b[0m \u001b[0mrequest\u001b[0m\u001b[0;34m)\u001b[0m\u001b[0;34m\u001b[0m\u001b[0;34m\u001b[0m\u001b[0m\n",
      "\u001b[0;32m~/.virtualenvs/tfrecorder/lib/python3.7/site-packages/apitools/base/py/http_wrapper.py\u001b[0m in \u001b[0;36mMakeRequest\u001b[0;34m(http, http_request, retries, max_retry_wait, redirections, retry_func, check_response_func)\u001b[0m\n\u001b[1;32m    358\u001b[0m                 \u001b[0mtotal_wait_sec\u001b[0m \u001b[0;34m=\u001b[0m \u001b[0mtime\u001b[0m\u001b[0;34m.\u001b[0m\u001b[0mtime\u001b[0m\u001b[0;34m(\u001b[0m\u001b[0;34m)\u001b[0m \u001b[0;34m-\u001b[0m \u001b[0mfirst_req_time\u001b[0m\u001b[0;34m\u001b[0m\u001b[0;34m\u001b[0m\u001b[0m\n\u001b[1;32m    359\u001b[0m                 retry_func(ExceptionRetryArgs(http, http_request, e, retry,\n\u001b[0;32m--> 360\u001b[0;31m                                               max_retry_wait, total_wait_sec))\n\u001b[0m\u001b[1;32m    361\u001b[0m \u001b[0;34m\u001b[0m\u001b[0m\n\u001b[1;32m    362\u001b[0m \u001b[0;34m\u001b[0m\u001b[0m\n",
      "\u001b[0;32m~/.virtualenvs/tfrecorder/lib/python3.7/site-packages/apache_beam/io/gcp/gcsio_overrides.py\u001b[0m in \u001b[0;36mretry_func\u001b[0;34m(cls, retry_args)\u001b[0m\n\u001b[1;32m     45\u001b[0m           'Caught GCS quota error (%s), retrying.', retry_args.exc.status_code)\n\u001b[1;32m     46\u001b[0m     \u001b[0;32melse\u001b[0m\u001b[0;34m:\u001b[0m\u001b[0;34m\u001b[0m\u001b[0;34m\u001b[0m\u001b[0m\n\u001b[0;32m---> 47\u001b[0;31m       \u001b[0;32mreturn\u001b[0m \u001b[0mhttp_wrapper\u001b[0m\u001b[0;34m.\u001b[0m\u001b[0mHandleExceptionsAndRebuildHttpConnections\u001b[0m\u001b[0;34m(\u001b[0m\u001b[0mretry_args\u001b[0m\u001b[0;34m)\u001b[0m\u001b[0;34m\u001b[0m\u001b[0;34m\u001b[0m\u001b[0m\n\u001b[0m\u001b[1;32m     48\u001b[0m \u001b[0;34m\u001b[0m\u001b[0m\n\u001b[1;32m     49\u001b[0m     \u001b[0mhttp_wrapper\u001b[0m\u001b[0;34m.\u001b[0m\u001b[0mRebuildHttpConnections\u001b[0m\u001b[0;34m(\u001b[0m\u001b[0mretry_args\u001b[0m\u001b[0;34m.\u001b[0m\u001b[0mhttp\u001b[0m\u001b[0;34m)\u001b[0m\u001b[0;34m\u001b[0m\u001b[0;34m\u001b[0m\u001b[0m\n",
      "\u001b[0;32m~/.virtualenvs/tfrecorder/lib/python3.7/site-packages/apitools/base/py/http_wrapper.py\u001b[0m in \u001b[0;36mHandleExceptionsAndRebuildHttpConnections\u001b[0;34m(retry_args)\u001b[0m\n\u001b[1;32m    288\u001b[0m           \u001b[0mhasattr\u001b[0m\u001b[0;34m(\u001b[0m\u001b[0mretry_args\u001b[0m\u001b[0;34m.\u001b[0m\u001b[0mexc\u001b[0m\u001b[0;34m,\u001b[0m \u001b[0;34m'status'\u001b[0m\u001b[0;34m)\u001b[0m \u001b[0;32mand\u001b[0m\u001b[0;34m\u001b[0m\u001b[0;34m\u001b[0m\u001b[0m\n\u001b[1;32m    289\u001b[0m           (retry_args.exc.status == TOO_MANY_REQUESTS or\n\u001b[0;32m--> 290\u001b[0;31m            retry_args.exc.status >= 500)):\n\u001b[0m\u001b[1;32m    291\u001b[0m         logging.debug(\n\u001b[1;32m    292\u001b[0m             \u001b[0;34m'Caught transient credential refresh error (%s), retrying'\u001b[0m\u001b[0;34m,\u001b[0m\u001b[0;34m\u001b[0m\u001b[0;34m\u001b[0m\u001b[0m\n",
      "\u001b[0;31mTypeError\u001b[0m: '>=' not supported between instances of 'NoneType' and 'int'"
     ]
    }
   ],
   "source": [
    "df.tensorflow.to_tfr(output_dir=BUCKET + OUTPUT_PATH,\n",
    "                     runner=\"DataflowRunner\",\n",
    "                     project=PROJECT,\n",
    "                     region=REGION,\n",
    "                     tfrecorder_wheel=TFRECORDER_WHEEL)"
   ]
  },
  {
   "cell_type": "markdown",
   "metadata": {},
   "source": [
    "# That's it!\n",
    "\n",
    "As you can see, TFRUtil has taken the supplied CSV and transformed it into TFRecords, ready for consumption, along with the transform function"
   ]
  }
 ],
 "metadata": {
  "kernelspec": {
   "display_name": "Python 3",
   "language": "python",
   "name": "python3"
  },
  "language_info": {
   "codemirror_mode": {
    "name": "ipython",
    "version": 3
   },
   "file_extension": ".py",
   "mimetype": "text/x-python",
   "name": "python",
   "nbconvert_exporter": "python",
   "pygments_lexer": "ipython3",
   "version": "3.7.7"
  }
 },
 "nbformat": 4,
 "nbformat_minor": 4
}
