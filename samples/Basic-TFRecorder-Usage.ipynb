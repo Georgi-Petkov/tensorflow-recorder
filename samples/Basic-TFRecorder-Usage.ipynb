{
 "cells": [
  {
   "cell_type": "markdown",
   "metadata": {},
   "source": [
    "# Basic TFRUtil Usage\n",
    "\n",
    "This notebook demonstrates the basic usage of TFRUtil.  It is meant to be run from the <repo>/sample/ path and uses test images included with TFRUtil stored in <repo>/tfrutil/test_data.\n",
    "    \n",
    "Before running this notebook, please install TFUtil with the command `python setup.py` from the repository root."
   ]
  },
  {
   "cell_type": "code",
   "execution_count": 3,
   "metadata": {},
   "outputs": [],
   "source": [
    "import os\n",
    "import pathlib\n",
    "\n",
    "import pandas as pd \n",
    "import tfrecorder"
   ]
  },
  {
   "cell_type": "code",
   "execution_count": 4,
   "metadata": {},
   "outputs": [],
   "source": [
    "input_file = pathlib.Path(os.getcwd())/'../tfrecorder/test_data/data.csv'\n",
    "output_dir = './out'  # YOUR LOCAL OUTPUT PATH HERE"
   ]
  },
  {
   "cell_type": "code",
   "execution_count": 5,
   "metadata": {},
   "outputs": [
    {
     "data": {
      "text/html": [
       "<div>\n",
       "<style scoped>\n",
       "    .dataframe tbody tr th:only-of-type {\n",
       "        vertical-align: middle;\n",
       "    }\n",
       "\n",
       "    .dataframe tbody tr th {\n",
       "        vertical-align: top;\n",
       "    }\n",
       "\n",
       "    .dataframe thead th {\n",
       "        text-align: right;\n",
       "    }\n",
       "</style>\n",
       "<table border=\"1\" class=\"dataframe\">\n",
       "  <thead>\n",
       "    <tr style=\"text-align: right;\">\n",
       "      <th></th>\n",
       "      <th>split</th>\n",
       "      <th>image_uri</th>\n",
       "      <th>label</th>\n",
       "    </tr>\n",
       "  </thead>\n",
       "  <tbody>\n",
       "    <tr>\n",
       "      <th>0</th>\n",
       "      <td>TEST</td>\n",
       "      <td>tfrecorder/test_data/images/TEST/cat/cat-800x6...</td>\n",
       "      <td>cat</td>\n",
       "    </tr>\n",
       "    <tr>\n",
       "      <th>1</th>\n",
       "      <td>TEST</td>\n",
       "      <td>tfrecorder/test_data/images/TEST/goat/goat-640...</td>\n",
       "      <td>goat</td>\n",
       "    </tr>\n",
       "    <tr>\n",
       "      <th>2</th>\n",
       "      <td>TRAIN</td>\n",
       "      <td>tfrecorder/test_data/images/TRAIN/cat/cat-640x...</td>\n",
       "      <td>cat</td>\n",
       "    </tr>\n",
       "    <tr>\n",
       "      <th>3</th>\n",
       "      <td>TRAIN</td>\n",
       "      <td>tfrecorder/test_data/images/TRAIN/goat/goat-64...</td>\n",
       "      <td>goat</td>\n",
       "    </tr>\n",
       "    <tr>\n",
       "      <th>4</th>\n",
       "      <td>VALIDATION</td>\n",
       "      <td>tfrecorder/test_data/images/VALIDATION/cat/cat...</td>\n",
       "      <td>cat</td>\n",
       "    </tr>\n",
       "  </tbody>\n",
       "</table>\n",
       "</div>"
      ],
      "text/plain": [
       "        split                                          image_uri label\n",
       "0        TEST  tfrecorder/test_data/images/TEST/cat/cat-800x6...   cat\n",
       "1        TEST  tfrecorder/test_data/images/TEST/goat/goat-640...  goat\n",
       "2       TRAIN  tfrecorder/test_data/images/TRAIN/cat/cat-640x...   cat\n",
       "3       TRAIN  tfrecorder/test_data/images/TRAIN/goat/goat-64...  goat\n",
       "4  VALIDATION  tfrecorder/test_data/images/VALIDATION/cat/cat...   cat"
      ]
     },
     "execution_count": 5,
     "metadata": {},
     "output_type": "execute_result"
    }
   ],
   "source": [
    "df = pd.read_csv(input_file)\n",
    "df.head()"
   ]
  },
  {
   "cell_type": "code",
   "execution_count": 9,
   "metadata": {
    "scrolled": true
   },
   "outputs": [
    {
     "data": {
      "text/html": [
       "<b>Logging output to /tmp/tfrecorder-beam.log </b>"
      ],
      "text/plain": [
       "<IPython.core.display.HTML object>"
      ]
     },
     "metadata": {},
     "output_type": "display_data"
    },
    {
     "data": {
      "text/plain": [
       "{'job_id': 'DirectRunner',\n",
       " 'metrics': {'rows': 6, 'good_images': None, 'bad_images': 6},\n",
       " 'tfrecord_dir': './out/tfrecorder-20201022-121052-to-tfr'}"
      ]
     },
     "execution_count": 9,
     "metadata": {},
     "output_type": "execute_result"
    }
   ],
   "source": [
    "results = df.tensorflow.to_tfr(output_dir)\n",
    "results"
   ]
  },
  {
   "cell_type": "code",
   "execution_count": 10,
   "metadata": {},
   "outputs": [
    {
     "name": "stdout",
     "output_type": "stream",
     "text": [
      "\u001b[1m\u001b[34m\u001b[47mtfrecorder-20201022-121014-to-tfr\u001b[m\u001b[m \u001b[1m\u001b[34m\u001b[47mtfrecorder-20201022-121052-to-tfr\u001b[m\u001b[m\n",
      "\u001b[1m\u001b[34m\u001b[47mtfrecorder-20201022-121047-to-tfr\u001b[m\u001b[m\n",
      "\n",
      "./out/tfrecorder-20201022-121014-to-tfr:\n",
      "discarded-data-00000-of-00001         \u001b[1m\u001b[34m\u001b[47mtransform_fn\u001b[m\u001b[m\n",
      "test-00000-of-00001.tfrecord.gz       \u001b[1m\u001b[34m\u001b[47mtransformed_metadata\u001b[m\u001b[m\n",
      "\u001b[1m\u001b[34m\u001b[47mtft_tmp\u001b[m\u001b[m                               validation-00000-of-00001.tfrecord.gz\n",
      "train-00000-of-00001.tfrecord.gz\n",
      "\n",
      "./out/tfrecorder-20201022-121014-to-tfr/tft_tmp:\n",
      "\u001b[1m\u001b[34m\u001b[47mtftransform_tmp\u001b[m\u001b[m\n",
      "\n",
      "./out/tfrecorder-20201022-121014-to-tfr/tft_tmp/tftransform_tmp:\n",
      "\u001b[1m\u001b[34m\u001b[47m4068da78afd34722a84c51ceac547efa\u001b[m\u001b[m\n",
      "\u001b[1m\u001b[34m\u001b[47m64e013b30bc74404802fe2460761f588\u001b[m\u001b[m\n",
      "\u001b[1m\u001b[34m\u001b[47mcdcca595e2b641e3849589a01521bf9e\u001b[m\u001b[m\n",
      "vocab_compute_and_apply_vocabulary_vocabulary\n",
      "\n",
      "./out/tfrecorder-20201022-121014-to-tfr/tft_tmp/tftransform_tmp/4068da78afd34722a84c51ceac547efa:\n",
      "saved_model.pb \u001b[1m\u001b[34m\u001b[47mvariables\u001b[m\u001b[m\n",
      "\n",
      "./out/tfrecorder-20201022-121014-to-tfr/tft_tmp/tftransform_tmp/4068da78afd34722a84c51ceac547efa/variables:\n",
      "\n",
      "./out/tfrecorder-20201022-121014-to-tfr/tft_tmp/tftransform_tmp/64e013b30bc74404802fe2460761f588:\n",
      "\u001b[1m\u001b[34m\u001b[47massets\u001b[m\u001b[m         saved_model.pb \u001b[1m\u001b[34m\u001b[47mvariables\u001b[m\u001b[m\n",
      "\n",
      "./out/tfrecorder-20201022-121014-to-tfr/tft_tmp/tftransform_tmp/64e013b30bc74404802fe2460761f588/assets:\n",
      "vocab_compute_and_apply_vocabulary_vocabulary\n",
      "\n",
      "./out/tfrecorder-20201022-121014-to-tfr/tft_tmp/tftransform_tmp/64e013b30bc74404802fe2460761f588/variables:\n",
      "\n",
      "./out/tfrecorder-20201022-121014-to-tfr/tft_tmp/tftransform_tmp/cdcca595e2b641e3849589a01521bf9e:\n",
      "saved_model.pb \u001b[1m\u001b[34m\u001b[47mvariables\u001b[m\u001b[m\n",
      "\n",
      "./out/tfrecorder-20201022-121014-to-tfr/tft_tmp/tftransform_tmp/cdcca595e2b641e3849589a01521bf9e/variables:\n",
      "\n",
      "./out/tfrecorder-20201022-121014-to-tfr/transform_fn:\n",
      "\u001b[1m\u001b[34m\u001b[47massets\u001b[m\u001b[m         saved_model.pb \u001b[1m\u001b[34m\u001b[47mvariables\u001b[m\u001b[m\n",
      "\n",
      "./out/tfrecorder-20201022-121014-to-tfr/transform_fn/assets:\n",
      "vocab_compute_and_apply_vocabulary_vocabulary\n",
      "\n",
      "./out/tfrecorder-20201022-121014-to-tfr/transform_fn/variables:\n",
      "\n",
      "./out/tfrecorder-20201022-121014-to-tfr/transformed_metadata:\n",
      "schema.pbtxt\n",
      "\n",
      "./out/tfrecorder-20201022-121047-to-tfr:\n",
      "discarded-data-00000-of-00001         \u001b[1m\u001b[34m\u001b[47mtransform_fn\u001b[m\u001b[m\n",
      "test-00000-of-00001.tfrecord.gz       \u001b[1m\u001b[34m\u001b[47mtransformed_metadata\u001b[m\u001b[m\n",
      "\u001b[1m\u001b[34m\u001b[47mtft_tmp\u001b[m\u001b[m                               validation-00000-of-00001.tfrecord.gz\n",
      "train-00000-of-00001.tfrecord.gz\n",
      "\n",
      "./out/tfrecorder-20201022-121047-to-tfr/tft_tmp:\n",
      "\u001b[1m\u001b[34m\u001b[47mtftransform_tmp\u001b[m\u001b[m\n",
      "\n",
      "./out/tfrecorder-20201022-121047-to-tfr/tft_tmp/tftransform_tmp:\n",
      "\u001b[1m\u001b[34m\u001b[47m3f3303365f734478af972a71d5ad8f3c\u001b[m\u001b[m\n",
      "\u001b[1m\u001b[34m\u001b[47mae6826008f984da98176a5c3ddcb25c4\u001b[m\u001b[m\n",
      "\u001b[1m\u001b[34m\u001b[47md6b56908c11648cfa4534371dbb028b0\u001b[m\u001b[m\n",
      "vocab_compute_and_apply_vocabulary_vocabulary\n",
      "\n",
      "./out/tfrecorder-20201022-121047-to-tfr/tft_tmp/tftransform_tmp/3f3303365f734478af972a71d5ad8f3c:\n",
      "\u001b[1m\u001b[34m\u001b[47massets\u001b[m\u001b[m         saved_model.pb \u001b[1m\u001b[34m\u001b[47mvariables\u001b[m\u001b[m\n",
      "\n",
      "./out/tfrecorder-20201022-121047-to-tfr/tft_tmp/tftransform_tmp/3f3303365f734478af972a71d5ad8f3c/assets:\n",
      "vocab_compute_and_apply_vocabulary_vocabulary\n",
      "\n",
      "./out/tfrecorder-20201022-121047-to-tfr/tft_tmp/tftransform_tmp/3f3303365f734478af972a71d5ad8f3c/variables:\n",
      "\n",
      "./out/tfrecorder-20201022-121047-to-tfr/tft_tmp/tftransform_tmp/ae6826008f984da98176a5c3ddcb25c4:\n",
      "saved_model.pb \u001b[1m\u001b[34m\u001b[47mvariables\u001b[m\u001b[m\n",
      "\n",
      "./out/tfrecorder-20201022-121047-to-tfr/tft_tmp/tftransform_tmp/ae6826008f984da98176a5c3ddcb25c4/variables:\n",
      "\n",
      "./out/tfrecorder-20201022-121047-to-tfr/tft_tmp/tftransform_tmp/d6b56908c11648cfa4534371dbb028b0:\n",
      "saved_model.pb \u001b[1m\u001b[34m\u001b[47mvariables\u001b[m\u001b[m\n",
      "\n",
      "./out/tfrecorder-20201022-121047-to-tfr/tft_tmp/tftransform_tmp/d6b56908c11648cfa4534371dbb028b0/variables:\n",
      "\n",
      "./out/tfrecorder-20201022-121047-to-tfr/transform_fn:\n",
      "\u001b[1m\u001b[34m\u001b[47massets\u001b[m\u001b[m         saved_model.pb \u001b[1m\u001b[34m\u001b[47mvariables\u001b[m\u001b[m\n",
      "\n",
      "./out/tfrecorder-20201022-121047-to-tfr/transform_fn/assets:\n",
      "vocab_compute_and_apply_vocabulary_vocabulary\n",
      "\n",
      "./out/tfrecorder-20201022-121047-to-tfr/transform_fn/variables:\n",
      "\n",
      "./out/tfrecorder-20201022-121047-to-tfr/transformed_metadata:\n",
      "schema.pbtxt\n",
      "\n",
      "./out/tfrecorder-20201022-121052-to-tfr:\n",
      "discarded-data-00000-of-00001         \u001b[1m\u001b[34m\u001b[47mtransform_fn\u001b[m\u001b[m\n",
      "test-00000-of-00001.tfrecord.gz       \u001b[1m\u001b[34m\u001b[47mtransformed_metadata\u001b[m\u001b[m\n",
      "\u001b[1m\u001b[34m\u001b[47mtft_tmp\u001b[m\u001b[m                               validation-00000-of-00001.tfrecord.gz\n",
      "train-00000-of-00001.tfrecord.gz\n",
      "\n",
      "./out/tfrecorder-20201022-121052-to-tfr/tft_tmp:\n",
      "\u001b[1m\u001b[34m\u001b[47mtftransform_tmp\u001b[m\u001b[m\n",
      "\n",
      "./out/tfrecorder-20201022-121052-to-tfr/tft_tmp/tftransform_tmp:\n",
      "\u001b[1m\u001b[34m\u001b[47m3698f3931fd14bb9bff583e64c54ffb6\u001b[m\u001b[m\n",
      "\u001b[1m\u001b[34m\u001b[47m38b82a6b79aa407db7893cfe1c77ecb7\u001b[m\u001b[m\n",
      "\u001b[1m\u001b[34m\u001b[47md4824d2bad824e3ca30a0b1a4c0bf9b4\u001b[m\u001b[m\n",
      "vocab_compute_and_apply_vocabulary_vocabulary\n",
      "\n",
      "./out/tfrecorder-20201022-121052-to-tfr/tft_tmp/tftransform_tmp/3698f3931fd14bb9bff583e64c54ffb6:\n",
      "saved_model.pb \u001b[1m\u001b[34m\u001b[47mvariables\u001b[m\u001b[m\n",
      "\n",
      "./out/tfrecorder-20201022-121052-to-tfr/tft_tmp/tftransform_tmp/3698f3931fd14bb9bff583e64c54ffb6/variables:\n",
      "\n",
      "./out/tfrecorder-20201022-121052-to-tfr/tft_tmp/tftransform_tmp/38b82a6b79aa407db7893cfe1c77ecb7:\n",
      "\u001b[1m\u001b[34m\u001b[47massets\u001b[m\u001b[m         saved_model.pb \u001b[1m\u001b[34m\u001b[47mvariables\u001b[m\u001b[m\n",
      "\n",
      "./out/tfrecorder-20201022-121052-to-tfr/tft_tmp/tftransform_tmp/38b82a6b79aa407db7893cfe1c77ecb7/assets:\n",
      "vocab_compute_and_apply_vocabulary_vocabulary\n",
      "\n",
      "./out/tfrecorder-20201022-121052-to-tfr/tft_tmp/tftransform_tmp/38b82a6b79aa407db7893cfe1c77ecb7/variables:\n",
      "\n",
      "./out/tfrecorder-20201022-121052-to-tfr/tft_tmp/tftransform_tmp/d4824d2bad824e3ca30a0b1a4c0bf9b4:\n",
      "saved_model.pb \u001b[1m\u001b[34m\u001b[47mvariables\u001b[m\u001b[m\n",
      "\n",
      "./out/tfrecorder-20201022-121052-to-tfr/tft_tmp/tftransform_tmp/d4824d2bad824e3ca30a0b1a4c0bf9b4/variables:\n",
      "\n",
      "./out/tfrecorder-20201022-121052-to-tfr/transform_fn:\n",
      "\u001b[1m\u001b[34m\u001b[47massets\u001b[m\u001b[m         saved_model.pb \u001b[1m\u001b[34m\u001b[47mvariables\u001b[m\u001b[m\n",
      "\n",
      "./out/tfrecorder-20201022-121052-to-tfr/transform_fn/assets:\n",
      "vocab_compute_and_apply_vocabulary_vocabulary\n",
      "\n",
      "./out/tfrecorder-20201022-121052-to-tfr/transform_fn/variables:\n",
      "\n",
      "./out/tfrecorder-20201022-121052-to-tfr/transformed_metadata:\n",
      "schema.pbtxt\n"
     ]
    }
   ],
   "source": [
    "!ls -R $output_dir"
   ]
  },
  {
   "cell_type": "markdown",
   "metadata": {},
   "source": [
    "# That's it!\n",
    "\n",
    "As you can see, TFRUtil has taken the supplied CSV and transformed it into TFRecords, ready for consumption, along with the transform function"
   ]
  }
 ],
 "metadata": {
  "kernelspec": {
   "display_name": "Python 3",
   "language": "python",
   "name": "python3"
  },
  "language_info": {
   "codemirror_mode": {
    "name": "ipython",
    "version": 3
   },
   "file_extension": ".py",
   "mimetype": "text/x-python",
   "name": "python",
   "nbconvert_exporter": "python",
   "pygments_lexer": "ipython3",
   "version": "3.6.8"
  }
 },
 "nbformat": 4,
 "nbformat_minor": 4
}
